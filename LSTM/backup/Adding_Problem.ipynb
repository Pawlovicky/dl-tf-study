{
 "cells": [
  {
   "cell_type": "code",
   "execution_count": 1,
   "metadata": {},
   "outputs": [],
   "source": [
    "import numpy as np\n",
    "from sklearn.model_selection import train_test_split\n",
    "from sklearn.utils import shuffle\n",
    "import matplotlib.pyplot as plt\n",
    "import tensorflow as tf \n",
    "\n",
    "%matplotlib inline\n",
    "import utils as ut\n",
    "early_stopping = ut.EarlyStopping(patience=100, verbose=1)\n",
    "seed_int = 123\n",
    "rng = np.random.RandomState(seed_int)"
   ]
  },
  {
   "cell_type": "code",
   "execution_count": 5,
   "metadata": {},
   "outputs": [],
   "source": [
    "def mask(T=200):\n",
    "    mask = np.zeros(T)\n",
    "    indices = rng.permutation(np.arange(T))[:2] # create a permutation and select the first 2 indices\n",
    "    mask[indices] = 1 # set them to 1\n",
    "    return mask\n",
    "\n",
    "def toy_problem(N=10, T=200):\n",
    "    signals = rng.uniform(low=0.0, high=1.0, size=(N, T))\n",
    "    masks = np.zeros((N, T))\n",
    "    for i in range(N):\n",
    "        masks[i] = mask(T)\n",
    "    data = np.zeros((N, T, 2))\n",
    "    data[:, :, 0] = signals[:]\n",
    "    data[:, :, 1] = masks[:]\n",
    "    target = (signals*masks).sum(axis=1).reshape(N, 1)\n",
    "    return (data, target)\n",
    "\n",
    "def mAdd(Xt):\n",
    "    return np.sum(Xt[:, 0]*Xt[:, 1])\n",
    "\n",
    "print(mAdd(data[0, :, :]))\n",
    "\n",
    "N=1000\n",
    "T=200\n",
    "maxlen = T\n",
    "X, Y = toy_problem(N=N, T=T)\n",
    "N_train = int(N*0.9)\n",
    "N_validation = N-N_train\n",
    "X_train, X_validation, Y_train, Y_validation = \\\n",
    "    train_test_split(X, Y, test_size=N_validation, random_state=seed_int)\n"
   ]
  },
  {
   "cell_type": "code",
   "execution_count": 46,
   "metadata": {},
   "outputs": [],
   "source": []
  }
 ],
 "metadata": {
  "kernelspec": {
   "display_name": "Python 3",
   "language": "python",
   "name": "python3"
  },
  "language_info": {
   "codemirror_mode": {
    "name": "ipython",
    "version": 3
   },
   "file_extension": ".py",
   "mimetype": "text/x-python",
   "name": "python",
   "nbconvert_exporter": "python",
   "pygments_lexer": "ipython3",
   "version": "3.5.2"
  }
 },
 "nbformat": 4,
 "nbformat_minor": 2
}
