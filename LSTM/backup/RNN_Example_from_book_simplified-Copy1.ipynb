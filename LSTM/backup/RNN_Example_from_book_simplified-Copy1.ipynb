{
 "cells": [
  {
   "cell_type": "code",
   "execution_count": 1,
   "metadata": {},
   "outputs": [],
   "source": [
    "import numpy as np\n",
    "from sklearn.model_selection import train_test_split\n",
    "from sklearn.utils import shuffle\n",
    "import matplotlib.pyplot as plt\n",
    "import tensorflow as tf \n",
    "\n",
    "%matplotlib inline"
   ]
  },
  {
   "cell_type": "code",
   "execution_count": 2,
   "metadata": {},
   "outputs": [],
   "source": [
    "import utils as ut\n",
    "early_stopping = ut.EarlyStopping(patience=100, verbose=1)"
   ]
  },
  {
   "cell_type": "markdown",
   "metadata": {},
   "source": [
    "# 1. Create Data for Toy Problem"
   ]
  },
  {
   "cell_type": "code",
   "execution_count": 2,
   "metadata": {},
   "outputs": [
    {
     "data": {
      "text/plain": [
       "[<matplotlib.lines.Line2D at 0x7f748415bbe0>]"
      ]
     },
     "execution_count": 2,
     "metadata": {},
     "output_type": "execute_result"
    },
    {
     "data": {
      "image/png": "[encoded data removed]",
      "text/plain": [
       "<matplotlib.figure.Figure at 0x7f7486195278>"
      ]
     },
     "metadata": {},
     "output_type": "display_data"
    }
   ],
   "source": [
    "def sin(x, T=100):\n",
    "    return np.sin(2.0 * np.pi * x/T)\n",
    "\n",
    "def toy_problem(T=100, ampl=0.05):\n",
    "    x = np.arange(0, 2*T + 1)\n",
    "    noise = ampl*np.random.uniform(low = -1.0, high = 1.0, size=len(x))\n",
    "    return sin(x) + noise\n",
    "\n",
    "T = 100\n",
    "f = toy_problem(T)\n",
    "plt.plot(f)"
   ]
  },
  {
   "cell_type": "code",
   "execution_count": 8,
   "metadata": {},
   "outputs": [
    {
     "data": {
      "text/plain": [
       "(201, 1)"
      ]
     },
     "execution_count": 8,
     "metadata": {},
     "output_type": "execute_result"
    }
   ],
   "source": [
    "from scipy.linalg import hankel\n",
    "hankel(f, [26]).shape"
   ]
  },
  {
   "cell_type": "code",
   "execution_count": 27,
   "metadata": {
    "scrolled": true
   },
   "outputs": [
    {
     "data": {
      "text/plain": [
       "array([[-0.00125794,  0.08965168,  0.07571463, ...,  0.94540547,\n",
       "         0.99546967,  1.0331526 ],\n",
       "       [ 0.08965168,  0.07571463,  0.2287783 , ...,  0.99546967,\n",
       "         1.0331526 ,  1.03388261],\n",
       "       [ 0.07571463,  0.2287783 ,  0.21654995, ...,  1.0331526 ,\n",
       "         1.03388261,  0.94946724],\n",
       "       ..., \n",
       "       [-1.02855644, -1.02848852, -0.95129128, ..., -0.28644723,\n",
       "        -0.21645237, -0.15641663],\n",
       "       [-1.02848852, -0.95129128, -1.0166775 , ..., -0.21645237,\n",
       "        -0.15641663, -0.11567454],\n",
       "       [-0.95129128, -1.0166775 , -1.01035503, ..., -0.15641663,\n",
       "        -0.11567454, -0.09870333]])"
      ]
     },
     "execution_count": 27,
     "metadata": {},
     "output_type": "execute_result"
    }
   ],
   "source": [
    "X"
   ]
  },
  {
   "cell_type": "code",
   "execution_count": 50,
   "metadata": {},
   "outputs": [],
   "source": [
    "import scipy.linalg\n",
    "Xhan = scipy.linalg.hankel(f[:-maxlen], f[-maxlen:])\n"
   ]
  },
  {
   "cell_type": "markdown",
   "metadata": {},
   "source": [
    "# 2a. Prepare Input Data to Train the Model"
   ]
  },
  {
   "cell_type": "code",
   "execution_count": 3,
   "metadata": {},
   "outputs": [],
   "source": [
    "length_of_sequences = 2*T\n",
    "maxlen = 25\n",
    "data = []\n",
    "target = []\n",
    "\n",
    "for i in range(0, length_of_sequences - maxlen + 1):\n",
    "    data.append(f[i: i + maxlen])\n",
    "    target.append(f[i + maxlen])\n",
    "\n",
    "X = np.array(data).reshape(len(data), maxlen, 1)\n",
    "Y = np.array(target).reshape(len(data), 1)\n",
    "\n",
    "X = X[:,:,0]\n",
    "Y = Y[:,0]\n",
    "\n",
    "N_train = int(len(data)*0.9)\n",
    "X_train = X[:N_train, :]\n",
    "X_test  = X[N_train:, :]\n",
    "Y_train = Y[:N_train]\n",
    "Y_test  = Y[N_train:]"
   ]
  },
  {
   "cell_type": "markdown",
   "metadata": {},
   "source": [
    "# Define Graph"
   ]
  },
  {
   "cell_type": "code",
   "execution_count": 53,
   "metadata": {},
   "outputs": [],
   "source": [
    "n_in = 1\n",
    "n_hidden = 20\n",
    "n_out = 1\n",
    "maxlen = 25\n",
    "\n",
    "tf.reset_default_graph()\n",
    "# Input Parameters\n",
    "#x = tf.placeholder(tf.float32, shape=[None, maxlen])\n",
    "x = tf.placeholder(tf.float32, shape=[None, maxlen])\n",
    "ybar = tf.placeholder(tf.float32, shape=[None])\n",
    "\n",
    "# TF Variables\n",
    "#y = inference(x, n_batch, maxlen=maxlen, n_hidden=n_hidden, n_out= n_out)\n",
    "#loss = loss(y, t)\n",
    "#train_step = training(loss)\n",
    "\n",
    "V = tf.Variable(tf.truncated_normal([n_hidden], stddev=0.01), name=\"V\")\n",
    "U = tf.Variable(tf.truncated_normal([n_hidden], stddev=0.01), name=\"U\")\n",
    "W = tf.Variable(tf.truncated_normal([n_hidden, n_hidden], stddev=0.01), name=\"W\")\n",
    "b = tf.Variable(tf.zeros([n_hidden], dtype=tf.float32), name=\"b\")\n",
    "c = tf.Variable(tf.zeros([n_out], dtype=tf.float32), name=\"c\")\n",
    "\n",
    "hlist = []\n",
    "h_prev = tf.zeros([n_hidden], dtype=tf.float32)\n",
    "for i in range(maxlen):\n",
    "    h_i = tf.tanh(x[:, i]*U + tf.reduce_sum(W*h_prev, axis=1) + b)\n",
    "    hlist.append(h_i)\n",
    "    h_prev = hlist[-1]\n",
    "h_last = hlist[-1]\n",
    "y   = tf.reduce_sum(V*h_last) + c\n",
    "mse = tf.reduce_mean(tf.square(y - ybar))\n",
    "\n",
    "optimize = tf.train.GradientDescentOptimizer(learning_rate = 0.001)\n",
    "train_step = optimize.minimize(mse)"
   ]
  },
  {
   "cell_type": "code",
   "execution_count": 54,
   "metadata": {},
   "outputs": [],
   "source": [
    "init = tf.global_variables_initializer()\n",
    "sess = tf.Session()\n",
    "sess.run(init)"
   ]
  },
  {
   "cell_type": "markdown",
   "metadata": {},
   "source": [
    "# Train Model"
   ]
  },
  {
   "cell_type": "code",
   "execution_count": 76,
   "metadata": {
    "scrolled": true
   },
   "outputs": [],
   "source": [
    "for epoch in range(500):\n",
    "    for i in range(X_train.shape[0]):\n",
    "        sess.run(train_step, feed_dict={\n",
    "                    #x: X_train[0, :],\n",
    "                    x: np.expand_dims(X_train[i, :], 0),\n",
    "                    ybar: np.array([Y_train[i]])\n",
    "                })"
   ]
  },
  {
   "cell_type": "markdown",
   "metadata": {},
   "source": [
    "# Plot results - insample"
   ]
  },
  {
   "cell_type": "code",
   "execution_count": 79,
   "metadata": {},
   "outputs": [
    {
     "data": {
      "text/plain": [
       "[<matplotlib.lines.Line2D at 0x7f7480ab4ef0>]"
      ]
     },
     "execution_count": 79,
     "metadata": {},
     "output_type": "execute_result"
    },
    {
     "data": {
      "image/png": "[encoded data removed]",
      "text/plain": [
       "<matplotlib.figure.Figure at 0x7f7480c4e978>"
      ]
     },
     "metadata": {},
     "output_type": "display_data"
    }
   ],
   "source": [
    "y_ = [y.eval(session=sess, feed_dict=\n",
    "             {x: np.expand_dims(X_train[i, :], 0)}) \n",
    "      for i in range(X_train.shape[0])]\n",
    "y_ = np.concatenate(y_)\n",
    "#original = [f[i + maxlen]  for i in range(X_train.shape[0])]\n",
    "original = Y_train\n",
    "plt.rc('font', family='serif')\n",
    "plt.figure()\n",
    "#plt.plot(toy_problem(T, ampl=0), linestyle='dotted', color='#aaaaaa')\n",
    "plt.plot(original, linestyle='dashed', color='black')\n",
    "plt.plot(y_, color='red')"
   ]
  },
  {
   "cell_type": "markdown",
   "metadata": {},
   "source": [
    "# Plot results - out of sample"
   ]
  },
  {
   "cell_type": "code",
   "execution_count": 80,
   "metadata": {},
   "outputs": [
    {
     "data": {
      "text/plain": [
       "[<matplotlib.lines.Line2D at 0x7f7480b73cc0>]"
      ]
     },
     "execution_count": 80,
     "metadata": {},
     "output_type": "execute_result"
    },
    {
     "data": {
      "image/png": "[encoded data removed]",
      "text/plain": [
       "<matplotlib.figure.Figure at 0x7f7480ae4ef0>"
      ]
     },
     "metadata": {},
     "output_type": "display_data"
    }
   ],
   "source": [
    "y_ = [y.eval(session=sess, feed_dict=\n",
    "             {x: np.expand_dims(X_test[i, :], 0)}) \n",
    "      for i in range(X_test.shape[0])]\n",
    "y_ = np.concatenate(y_)\n",
    "#original = [f[i + maxlen]  for i in range(X_train.shape[0])]\n",
    "original = Y_test\n",
    "plt.rc('font', family='serif')\n",
    "plt.figure()\n",
    "#plt.plot(toy_problem(T, ampl=0), linestyle='dotted', color='#aaaaaa')\n",
    "plt.plot(original, linestyle='dashed', color='black')\n",
    "plt.plot(y_, color='black')"
   ]
  },
  {
   "cell_type": "code",
   "execution_count": null,
   "metadata": {},
   "outputs": [],
   "source": [
    "truncate = maxlen\n",
    "Z = X[:1]\n",
    "original = [f[i] for i in range(maxlen)]\n",
    "predicted = [None for i in range(maxlen)]\n",
    "\n",
    "for i in range(length_of_sequences -maxlen +1):\n",
    "    z_ = Z[-1:]\n",
    "    y_ = y.eval(session=sess, feed_dict ={x: Z[-1:],\n",
    "                                          n_batch: 1})\n",
    "    sequence_ = np.concatenate((z_.reshape(maxlen, n_in)[1:], y_), axis=0)\\\n",
    "                               .reshape(1, maxlen, n_in)\n",
    "    Z = np.append(Z, sequence_, axis=0)\n",
    "    predicted.append(y_.reshape(-1))\n",
    "\n",
    "plt.rc('font', family='serif')\n",
    "plt.figure()\n",
    "plt.plot(toy_problem(T, ampl=0), linestyle='dotted', color='#aaaaaa')\n",
    "plt.plot(original, linestyle='dashed', color='black')\n",
    "plt.plot(predicted, color='black')\n",
    "plt.show()"
   ]
  },
  {
   "cell_type": "code",
   "execution_count": null,
   "metadata": {},
   "outputs": [],
   "source": [
    "sess.run(train_step, feed_dict={\n",
    "    x: X_[start:end],\n",
    "    t: Y_[start:end],\n",
    "    n_batch: N_train\n",
    "    })\n",
    "val_loss = loss.eval(session=sess, feed_dict={\n",
    "    x: X_validation,\n",
    "    t: Y_validation,\n",
    "    n_batch: N_validation"
   ]
  },
  {
   "cell_type": "code",
   "execution_count": null,
   "metadata": {},
   "outputs": [],
   "source": [
    "loss.eval(session=sess, feed_dict={\n",
    "        x: X_validation,\n",
    "        t: Y_validation,\n",
    "        n_batch: N_validation\n",
    "    })"
   ]
  },
  {
   "cell_type": "markdown",
   "metadata": {},
   "source": [
    "# 3. Define Functions for Model"
   ]
  },
  {
   "cell_type": "code",
   "execution_count": 7,
   "metadata": {},
   "outputs": [],
   "source": [
    "def inference(x, n_batch, maxlen=None, n_hidden=None, n_out=None):\n",
    "    def weight_variable(shape):\n",
    "        initial = tf.truncated_normal(shape, stddev=0.01) # resample 2 sd vals\n",
    "        return tf.Variable(initial)\n",
    "    \n",
    "    def bias_variable(shape):\n",
    "        initial = tf.zeros(shape, dtype=tf.float32)\n",
    "        return tf.Variable(initial)\n",
    "    \n",
    "    cell = tf.contrib.rnn.BasicRNNCell(n_hidden)\n",
    "    initial_state = cell.zero_state(n_batch, tf.float32)\n",
    "    \n",
    "    state = initial_state\n",
    "    outputs = []\n",
    "    with tf.variable_scope('RNN'):\n",
    "        for t in range(maxlen):\n",
    "            if t > 0:\n",
    "                tf.get_variable_scope().reuse_variables()\n",
    "            (cell_output, state) = cell(x[:, t, :], state)\n",
    "            outputs.append(cell_output)\n",
    "    output = outputs[-1]\n",
    "    \n",
    "    V = weight_variable([n_hidden, n_out])\n",
    "    c = bias_variable([n_out])\n",
    "    y = tf.matmul(output, V) + c\n",
    "    \n",
    "    return y\n",
    "\n",
    "def loss(y, t):\n",
    "    mse = tf.reduce_mean(tf.square(y - t))\n",
    "    return mse\n",
    "\n",
    "def training(loss):\n",
    "    optimize = tf.train.AdamOptimizer(learning_rate = 0.001, beta1=0.9, beta2=0.999)\n",
    "    train_step = optimize.minimize(loss)\n",
    "    return train_step"
   ]
  },
  {
   "cell_type": "markdown",
   "metadata": {},
   "source": [
    "# 4. Define TF Graph"
   ]
  },
  {
   "cell_type": "code",
   "execution_count": 13,
   "metadata": {},
   "outputs": [],
   "source": [
    "n_in = len(X[0][0])\n",
    "n_hidden = 20\n",
    "n_out = len(Y[0])\n",
    "\n",
    "tf.reset_default_graph()\n",
    "# Input Parameters\n",
    "x = tf.placeholder(tf.float32, shape=[None, maxlen, n_in])\n",
    "t = tf.placeholder(tf.float32, shape=[None, n_out])\n",
    "n_batch = tf.placeholder(tf.int32, [])\n",
    "\n",
    "# TF Variables\n",
    "y = inference(x, n_batch, maxlen=maxlen, n_hidden=n_hidden, n_out= n_out)\n",
    "loss = loss(y, t)\n",
    "train_step = training(loss)"
   ]
  },
  {
   "cell_type": "markdown",
   "metadata": {},
   "source": [
    "# 5. Run Computational Graph (with batches)"
   ]
  },
  {
   "cell_type": "code",
   "execution_count": 20,
   "metadata": {},
   "outputs": [
    {
     "name": "stdout",
     "output_type": "stream",
     "text": [
      "epoch: 0  validation loss:  0.374976\n",
      "epoch: 1  validation loss:  0.227226\n",
      "epoch: 2  validation loss:  0.108322\n",
      "epoch: 3  validation loss:  0.0557233\n",
      "epoch: 4  validation loss:  0.0385493\n",
      "epoch: 5  validation loss:  0.0298172\n",
      "epoch: 6  validation loss:  0.0169131\n",
      "epoch: 7  validation loss:  0.0119171\n",
      "epoch: 8  validation loss:  0.00889161\n",
      "epoch: 9  validation loss:  0.00676138\n",
      "epoch: 10  validation loss:  0.005777\n",
      "epoch: 11  validation loss:  0.00490913\n",
      "epoch: 12  validation loss:  0.00435857\n",
      "epoch: 13  validation loss:  0.00367919\n",
      "epoch: 14  validation loss:  0.00354245\n",
      "epoch: 15  validation loss:  0.00468984\n",
      "epoch: 16  validation loss:  0.00386125\n",
      "epoch: 17  validation loss:  0.00287334\n",
      "epoch: 18  validation loss:  0.0051694\n",
      "epoch: 19  validation loss:  0.00319127\n",
      "epoch: 20  validation loss:  0.003065\n",
      "epoch: 21  validation loss:  0.00260427\n",
      "epoch: 22  validation loss:  0.00255011\n",
      "epoch: 23  validation loss:  0.00288431\n",
      "epoch: 24  validation loss:  0.00301046\n",
      "epoch: 25  validation loss:  0.00401924\n",
      "epoch: 26  validation loss:  0.00423515\n",
      "epoch: 27  validation loss:  0.00324199\n",
      "epoch: 28  validation loss:  0.00417644\n",
      "epoch: 29  validation loss:  0.00245994\n",
      "epoch: 30  validation loss:  0.00259219\n",
      "epoch: 31  validation loss:  0.00228302\n",
      "epoch: 32  validation loss:  0.00283886\n",
      "epoch: 33  validation loss:  0.0028145\n",
      "epoch: 34  validation loss:  0.00326501\n",
      "epoch: 35  validation loss:  0.00297431\n",
      "epoch: 36  validation loss:  0.00351029\n",
      "epoch: 37  validation loss:  0.00422212\n",
      "epoch: 38  validation loss:  0.00374396\n",
      "epoch: 39  validation loss:  0.00320556\n",
      "epoch: 40  validation loss:  0.0032858\n",
      "epoch: 41  validation loss:  0.00362286\n",
      "epoch: 42  validation loss:  0.00388494\n",
      "epoch: 43  validation loss:  0.00277309\n",
      "epoch: 44  validation loss:  0.00240007\n",
      "epoch: 45  validation loss:  0.00263042\n",
      "epoch: 46  validation loss:  0.00234625\n",
      "epoch: 47  validation loss:  0.00328085\n",
      "epoch: 48  validation loss:  0.00265747\n",
      "epoch: 49  validation loss:  0.00340467\n",
      "epoch: 50  validation loss:  0.00343147\n",
      "epoch: 51  validation loss:  0.00345068\n",
      "epoch: 52  validation loss:  0.00230191\n",
      "epoch: 53  validation loss:  0.0031532\n",
      "epoch: 54  validation loss:  0.00394301\n",
      "epoch: 55  validation loss:  0.00308143\n",
      "epoch: 56  validation loss:  0.00354537\n",
      "epoch: 57  validation loss:  0.00543105\n",
      "epoch: 58  validation loss:  0.00467463\n",
      "epoch: 59  validation loss:  0.00335875\n",
      "epoch: 60  validation loss:  0.00317066\n",
      "epoch: 61  validation loss:  0.00294523\n",
      "epoch: 62  validation loss:  0.0026855\n",
      "epoch: 63  validation loss:  0.00249091\n",
      "epoch: 64  validation loss:  0.00233281\n",
      "epoch: 65  validation loss:  0.00230309\n",
      "epoch: 66  validation loss:  0.002927\n",
      "epoch: 67  validation loss:  0.00499357\n",
      "epoch: 68  validation loss:  0.00285032\n",
      "epoch: 69  validation loss:  0.00290317\n",
      "epoch: 70  validation loss:  0.00243625\n",
      "epoch: 71  validation loss:  0.00317447\n",
      "epoch: 72  validation loss:  0.00245243\n",
      "epoch: 73  validation loss:  0.00223463\n",
      "epoch: 74  validation loss:  0.00239898\n",
      "epoch: 75  validation loss:  0.00276923\n",
      "epoch: 76  validation loss:  0.00206291\n",
      "epoch: 77  validation loss:  0.0023191\n",
      "epoch: 78  validation loss:  0.00226178\n",
      "epoch: 79  validation loss:  0.00311085\n",
      "epoch: 80  validation loss:  0.00355922\n",
      "epoch: 81  validation loss:  0.00289468\n",
      "epoch: 82  validation loss:  0.00287965\n",
      "epoch: 83  validation loss:  0.00335942\n",
      "epoch: 84  validation loss:  0.00211716\n",
      "epoch: 85  validation loss:  0.00255744\n",
      "epoch: 86  validation loss:  0.00223014\n",
      "epoch: 87  validation loss:  0.00359898\n",
      "epoch: 88  validation loss:  0.00355005\n",
      "epoch: 89  validation loss:  0.00443618\n",
      "epoch: 90  validation loss:  0.00276097\n",
      "epoch: 91  validation loss:  0.00342438\n",
      "epoch: 92  validation loss:  0.00288639\n",
      "epoch: 93  validation loss:  0.00403851\n",
      "epoch: 94  validation loss:  0.00222356\n",
      "epoch: 95  validation loss:  0.00209459\n",
      "epoch: 96  validation loss:  0.00232491\n",
      "epoch: 97  validation loss:  0.0023404\n",
      "epoch: 98  validation loss:  0.00237128\n",
      "epoch: 99  validation loss:  0.00253437\n",
      "epoch: 100  validation loss:  0.00201022\n",
      "epoch: 101  validation loss:  0.00210927\n",
      "epoch: 102  validation loss:  0.00245316\n",
      "epoch: 103  validation loss:  0.00309588\n",
      "epoch: 104  validation loss:  0.00260688\n",
      "epoch: 105  validation loss:  0.00263653\n",
      "epoch: 106  validation loss:  0.00276173\n",
      "epoch: 107  validation loss:  0.00288535\n",
      "epoch: 108  validation loss:  0.0023575\n",
      "epoch: 109  validation loss:  0.00264302\n",
      "epoch: 110  validation loss:  0.0027811\n",
      "epoch: 111  validation loss:  0.00224547\n",
      "epoch: 112  validation loss:  0.00210986\n",
      "epoch: 113  validation loss:  0.00204632\n",
      "epoch: 114  validation loss:  0.00256216\n",
      "epoch: 115  validation loss:  0.00375947\n",
      "epoch: 116  validation loss:  0.0026046\n",
      "epoch: 117  validation loss:  0.00207413\n",
      "epoch: 118  validation loss:  0.00210907\n",
      "epoch: 119  validation loss:  0.00201998\n",
      "epoch: 120  validation loss:  0.00217297\n",
      "epoch: 121  validation loss:  0.00309802\n",
      "epoch: 122  validation loss:  0.00212312\n",
      "epoch: 123  validation loss:  0.00275774\n",
      "epoch: 124  validation loss:  0.00226156\n",
      "epoch: 125  validation loss:  0.00249514\n",
      "epoch: 126  validation loss:  0.00312763\n",
      "epoch: 127  validation loss:  0.00357392\n",
      "epoch: 128  validation loss:  0.00245419\n",
      "epoch: 129  validation loss:  0.00231084\n",
      "epoch: 130  validation loss:  0.00217782\n",
      "epoch: 131  validation loss:  0.00199988\n",
      "epoch: 132  validation loss:  0.00210142\n",
      "epoch: 133  validation loss:  0.0023157\n",
      "epoch: 134  validation loss:  0.00233548\n",
      "epoch: 135  validation loss:  0.00259682\n",
      "epoch: 136  validation loss:  0.0020897\n",
      "epoch: 137  validation loss:  0.00241772\n",
      "epoch: 138  validation loss:  0.00324395\n",
      "epoch: 139  validation loss:  0.00201192\n",
      "epoch: 140  validation loss:  0.00213037\n",
      "epoch: 141  validation loss:  0.00235314\n",
      "epoch: 142  validation loss:  0.00244682\n",
      "epoch: 143  validation loss:  0.0025065\n",
      "epoch: 144  validation loss:  0.0021444\n",
      "epoch: 145  validation loss:  0.00262745\n",
      "epoch: 146  validation loss:  0.00288447\n",
      "epoch: 147  validation loss:  0.00270813\n",
      "epoch: 148  validation loss:  0.0021476\n",
      "epoch: 149  validation loss:  0.00219636\n",
      "epoch: 150  validation loss:  0.00270456\n",
      "epoch: 151  validation loss:  0.00220231\n",
      "epoch: 152  validation loss:  0.00267694\n",
      "epoch: 153  validation loss:  0.00241012\n",
      "epoch: 154  validation loss:  0.00234554\n",
      "epoch: 155  validation loss:  0.00225021\n",
      "epoch: 156  validation loss:  0.00232254\n",
      "epoch: 157  validation loss:  0.00239607\n",
      "epoch: 158  validation loss:  0.00232967\n",
      "epoch: 159  validation loss:  0.00249104\n",
      "epoch: 160  validation loss:  0.00210717\n",
      "epoch: 161  validation loss:  0.00216636\n",
      "epoch: 162  validation loss:  0.00252694\n",
      "epoch: 163  validation loss:  0.00252209\n",
      "epoch: 164  validation loss:  0.00284036\n",
      "epoch: 165  validation loss:  0.00305003\n",
      "epoch: 166  validation loss:  0.00255654\n",
      "epoch: 167  validation loss:  0.00260039\n",
      "epoch: 168  validation loss:  0.00207702\n",
      "epoch: 169  validation loss:  0.00205693\n",
      "epoch: 170  validation loss:  0.0021902\n",
      "epoch: 171  validation loss:  0.00204121\n",
      "epoch: 172  validation loss:  0.00209844\n",
      "epoch: 173  validation loss:  0.0019133\n",
      "epoch: 174  validation loss:  0.00198176\n",
      "epoch: 175  validation loss:  0.00185042\n",
      "epoch: 176  validation loss:  0.00205772\n",
      "epoch: 177  validation loss:  0.00285114\n",
      "epoch: 178  validation loss:  0.00216157\n",
      "epoch: 179  validation loss:  0.00187101\n",
      "epoch: 180  validation loss:  0.00196642\n",
      "epoch: 181  validation loss:  0.00235441\n",
      "epoch: 182  validation loss:  0.00228972\n",
      "epoch: 183  validation loss:  0.00190227\n",
      "epoch: 184  validation loss:  0.0019297\n",
      "epoch: 185  validation loss:  0.00183983\n",
      "epoch: 186  validation loss:  0.00185752\n",
      "epoch: 187  validation loss:  0.00199033\n",
      "epoch: 188  validation loss:  0.00206596\n",
      "epoch: 189  validation loss:  0.00194548\n",
      "epoch: 190  validation loss:  0.00205435\n",
      "epoch: 191  validation loss:  0.00203227\n",
      "epoch: 192  validation loss:  0.00203207\n",
      "epoch: 193  validation loss:  0.00214191\n",
      "epoch: 194  validation loss:  0.00194628\n",
      "epoch: 195  validation loss:  0.00211476\n",
      "epoch: 196  validation loss:  0.00205252\n",
      "epoch: 197  validation loss:  0.00187078\n",
      "epoch: 198  validation loss:  0.0020042\n",
      "epoch: 199  validation loss:  0.00200248\n",
      "epoch: 200  validation loss:  0.00197117\n",
      "epoch: 201  validation loss:  0.00274202\n",
      "epoch: 202  validation loss:  0.0018098\n",
      "epoch: 203  validation loss:  0.00218726\n",
      "epoch: 204  validation loss:  0.00184047\n",
      "epoch: 205  validation loss:  0.00227111\n",
      "epoch: 206  validation loss:  0.00192919\n",
      "epoch: 207  validation loss:  0.00202656\n",
      "epoch: 208  validation loss:  0.00182956\n",
      "epoch: 209  validation loss:  0.00231931\n",
      "epoch: 210  validation loss:  0.00256437\n",
      "epoch: 211  validation loss:  0.00197382\n",
      "epoch: 212  validation loss:  0.00207544\n"
     ]
    },
    {
     "name": "stdout",
     "output_type": "stream",
     "text": [
      "epoch: 213  validation loss:  0.00200091\n",
      "epoch: 214  validation loss:  0.00217685\n",
      "epoch: 215  validation loss:  0.00212442\n",
      "epoch: 216  validation loss:  0.00193874\n",
      "epoch: 217  validation loss:  0.00204162\n",
      "epoch: 218  validation loss:  0.00184806\n",
      "epoch: 219  validation loss:  0.00211795\n",
      "epoch: 220  validation loss:  0.00217015\n",
      "epoch: 221  validation loss:  0.00229764\n",
      "epoch: 222  validation loss:  0.00221496\n",
      "epoch: 223  validation loss:  0.00189942\n",
      "epoch: 224  validation loss:  0.00206968\n",
      "epoch: 225  validation loss:  0.00214084\n",
      "epoch: 226  validation loss:  0.00227816\n",
      "epoch: 227  validation loss:  0.00219029\n",
      "epoch: 228  validation loss:  0.00183163\n",
      "epoch: 229  validation loss:  0.00212423\n",
      "epoch: 230  validation loss:  0.00182975\n",
      "epoch: 231  validation loss:  0.0022187\n",
      "epoch: 232  validation loss:  0.00173564\n",
      "epoch: 233  validation loss:  0.00212757\n",
      "epoch: 234  validation loss:  0.00205585\n",
      "epoch: 235  validation loss:  0.00181513\n",
      "epoch: 236  validation loss:  0.00193216\n",
      "epoch: 237  validation loss:  0.00182273\n",
      "epoch: 238  validation loss:  0.00184486\n",
      "epoch: 239  validation loss:  0.00194204\n",
      "epoch: 240  validation loss:  0.00214561\n",
      "epoch: 241  validation loss:  0.00263668\n",
      "epoch: 242  validation loss:  0.00269883\n",
      "epoch: 243  validation loss:  0.00187438\n",
      "epoch: 244  validation loss:  0.00204425\n",
      "epoch: 245  validation loss:  0.00177501\n",
      "epoch: 246  validation loss:  0.00192189\n",
      "epoch: 247  validation loss:  0.00182588\n",
      "epoch: 248  validation loss:  0.00201052\n",
      "epoch: 249  validation loss:  0.0017357\n",
      "epoch: 250  validation loss:  0.00183385\n",
      "epoch: 251  validation loss:  0.00178944\n",
      "epoch: 252  validation loss:  0.00195085\n",
      "epoch: 253  validation loss:  0.0020599\n",
      "epoch: 254  validation loss:  0.00186961\n",
      "epoch: 255  validation loss:  0.00189059\n",
      "epoch: 256  validation loss:  0.00196711\n",
      "epoch: 257  validation loss:  0.0022589\n",
      "epoch: 258  validation loss:  0.00197013\n",
      "epoch: 259  validation loss:  0.00210306\n",
      "epoch: 260  validation loss:  0.0022279\n",
      "epoch: 261  validation loss:  0.00197722\n",
      "epoch: 262  validation loss:  0.00186937\n",
      "epoch: 263  validation loss:  0.00212898\n",
      "epoch: 264  validation loss:  0.00173728\n",
      "epoch: 265  validation loss:  0.00208804\n",
      "epoch: 266  validation loss:  0.0019658\n",
      "epoch: 267  validation loss:  0.00213843\n",
      "epoch: 268  validation loss:  0.00220695\n",
      "epoch: 269  validation loss:  0.00175034\n",
      "epoch: 270  validation loss:  0.00245863\n",
      "epoch: 271  validation loss:  0.0019252\n",
      "epoch: 272  validation loss:  0.00194345\n",
      "epoch: 273  validation loss:  0.00183877\n",
      "epoch: 274  validation loss:  0.00193407\n",
      "epoch: 275  validation loss:  0.00187651\n",
      "epoch: 276  validation loss:  0.00208327\n",
      "epoch: 277  validation loss:  0.00204626\n",
      "epoch: 278  validation loss:  0.00180765\n",
      "epoch: 279  validation loss:  0.00206322\n",
      "epoch: 280  validation loss:  0.00204894\n",
      "epoch: 281  validation loss:  0.00175369\n",
      "epoch: 282  validation loss:  0.00198584\n",
      "epoch: 283  validation loss:  0.00173578\n",
      "epoch: 284  validation loss:  0.00198247\n",
      "epoch: 285  validation loss:  0.00187277\n",
      "epoch: 286  validation loss:  0.00199198\n",
      "epoch: 287  validation loss:  0.00194423\n",
      "epoch: 288  validation loss:  0.00205036\n",
      "epoch: 289  validation loss:  0.00181152\n",
      "epoch: 290  validation loss:  0.00219482\n",
      "epoch: 291  validation loss:  0.00221924\n",
      "epoch: 292  validation loss:  0.00205235\n",
      "epoch: 293  validation loss:  0.00192663\n",
      "epoch: 294  validation loss:  0.00196358\n",
      "epoch: 295  validation loss:  0.00263785\n",
      "epoch: 296  validation loss:  0.00229093\n",
      "epoch: 297  validation loss:  0.00216147\n",
      "epoch: 298  validation loss:  0.00207076\n",
      "epoch: 299  validation loss:  0.00175708\n",
      "epoch: 300  validation loss:  0.00211725\n",
      "epoch: 301  validation loss:  0.00203465\n",
      "epoch: 302  validation loss:  0.00209443\n",
      "epoch: 303  validation loss:  0.00183774\n",
      "epoch: 304  validation loss:  0.00200128\n",
      "epoch: 305  validation loss:  0.00166119\n",
      "epoch: 306  validation loss:  0.0018097\n",
      "epoch: 307  validation loss:  0.00184565\n",
      "epoch: 308  validation loss:  0.00198317\n",
      "epoch: 309  validation loss:  0.00226001\n",
      "epoch: 310  validation loss:  0.00218831\n",
      "epoch: 311  validation loss:  0.00191077\n",
      "epoch: 312  validation loss:  0.00199384\n",
      "epoch: 313  validation loss:  0.00174693\n",
      "epoch: 314  validation loss:  0.00221887\n",
      "epoch: 315  validation loss:  0.00227504\n",
      "epoch: 316  validation loss:  0.00188075\n",
      "epoch: 317  validation loss:  0.00183687\n",
      "epoch: 318  validation loss:  0.00187833\n",
      "epoch: 319  validation loss:  0.00202724\n",
      "epoch: 320  validation loss:  0.00199515\n",
      "epoch: 321  validation loss:  0.00171372\n",
      "epoch: 322  validation loss:  0.00211299\n",
      "epoch: 323  validation loss:  0.00214689\n",
      "epoch: 324  validation loss:  0.00202358\n",
      "epoch: 325  validation loss:  0.00184097\n",
      "epoch: 326  validation loss:  0.00181215\n",
      "epoch: 327  validation loss:  0.00195442\n",
      "epoch: 328  validation loss:  0.00195448\n",
      "epoch: 329  validation loss:  0.00198847\n",
      "epoch: 330  validation loss:  0.00188639\n",
      "epoch: 331  validation loss:  0.00236227\n",
      "epoch: 332  validation loss:  0.00279744\n",
      "epoch: 333  validation loss:  0.00190712\n",
      "epoch: 334  validation loss:  0.00207542\n",
      "epoch: 335  validation loss:  0.00200084\n",
      "epoch: 336  validation loss:  0.0019835\n",
      "epoch: 337  validation loss:  0.00198993\n",
      "epoch: 338  validation loss:  0.00213218\n",
      "epoch: 339  validation loss:  0.00175136\n",
      "epoch: 340  validation loss:  0.00205765\n",
      "epoch: 341  validation loss:  0.00191673\n",
      "epoch: 342  validation loss:  0.0023489\n",
      "epoch: 343  validation loss:  0.00204146\n",
      "epoch: 344  validation loss:  0.00170794\n",
      "epoch: 345  validation loss:  0.00224718\n",
      "epoch: 346  validation loss:  0.00175712\n",
      "epoch: 347  validation loss:  0.00220205\n",
      "epoch: 348  validation loss:  0.00189967\n",
      "epoch: 349  validation loss:  0.0021245\n",
      "epoch: 350  validation loss:  0.00190276\n",
      "epoch: 351  validation loss:  0.001962\n",
      "epoch: 352  validation loss:  0.00217167\n",
      "epoch: 353  validation loss:  0.00215867\n",
      "epoch: 354  validation loss:  0.00185008\n",
      "epoch: 355  validation loss:  0.00193876\n",
      "epoch: 356  validation loss:  0.00287834\n",
      "epoch: 357  validation loss:  0.00235452\n",
      "epoch: 358  validation loss:  0.00200447\n",
      "epoch: 359  validation loss:  0.00191558\n",
      "epoch: 360  validation loss:  0.00213846\n",
      "epoch: 361  validation loss:  0.00177165\n",
      "epoch: 362  validation loss:  0.00193349\n",
      "epoch: 363  validation loss:  0.00196479\n",
      "epoch: 364  validation loss:  0.00181772\n",
      "epoch: 365  validation loss:  0.00207703\n",
      "epoch: 366  validation loss:  0.00227917\n",
      "epoch: 367  validation loss:  0.00197898\n",
      "epoch: 368  validation loss:  0.00193004\n",
      "epoch: 369  validation loss:  0.00216141\n",
      "epoch: 370  validation loss:  0.00186286\n",
      "epoch: 371  validation loss:  0.0028612\n",
      "epoch: 372  validation loss:  0.00198921\n",
      "epoch: 373  validation loss:  0.0025116\n",
      "epoch: 374  validation loss:  0.00283701\n",
      "epoch: 375  validation loss:  0.00228332\n",
      "epoch: 376  validation loss:  0.00185703\n",
      "epoch: 377  validation loss:  0.00203673\n",
      "epoch: 378  validation loss:  0.00206422\n",
      "epoch: 379  validation loss:  0.00187347\n",
      "epoch: 380  validation loss:  0.00218295\n",
      "epoch: 381  validation loss:  0.00201144\n",
      "epoch: 382  validation loss:  0.00179098\n",
      "epoch: 383  validation loss:  0.00197228\n",
      "epoch: 384  validation loss:  0.00207199\n",
      "epoch: 385  validation loss:  0.00193051\n",
      "epoch: 386  validation loss:  0.00266222\n",
      "epoch: 387  validation loss:  0.00190313\n",
      "epoch: 388  validation loss:  0.00192711\n",
      "epoch: 389  validation loss:  0.00204557\n",
      "epoch: 390  validation loss:  0.00197091\n",
      "epoch: 391  validation loss:  0.0017528\n",
      "epoch: 392  validation loss:  0.00245133\n",
      "epoch: 393  validation loss:  0.00182588\n",
      "epoch: 394  validation loss:  0.00205044\n",
      "epoch: 395  validation loss:  0.00180166\n",
      "epoch: 396  validation loss:  0.00190385\n",
      "epoch: 397  validation loss:  0.00188957\n",
      "epoch: 398  validation loss:  0.00180984\n",
      "epoch: 399  validation loss:  0.00197063\n",
      "epoch: 400  validation loss:  0.00174507\n",
      "epoch: 401  validation loss:  0.00184466\n",
      "epoch: 402  validation loss:  0.00197412\n",
      "epoch: 403  validation loss:  0.00174647\n",
      "epoch: 404  validation loss:  0.0022171\n",
      "epoch: 405  validation loss:  0.00207233\n",
      "epoch: 406  validation loss:  0.00195511\n",
      "early stopping\n"
     ]
    }
   ],
   "source": [
    "epochs = 500\n",
    "batch_size = 10\n",
    "\n",
    "init = tf.global_variables_initializer()\n",
    "sess = tf.Session()\n",
    "sess.run(init)\n",
    "history= {'val_loss': []}\n",
    "n_batches = N_train // batch_size\n",
    "early_stopping = ut.EarlyStopping(patience=100, verbose=1)\n",
    "for epoch in range(epochs):\n",
    "    X_, Y_ = shuffle(X_train, Y_train)\n",
    "    \n",
    "    for i in range(n_batches):\n",
    "        start = i*batch_size\n",
    "        end = start + batch_size\n",
    "        \n",
    "        sess.run(train_step, feed_dict={\n",
    "            x: X_[start:end],\n",
    "            t: Y_[start:end],\n",
    "            n_batch: batch_size\n",
    "        })\n",
    "    val_loss = loss.eval(session=sess, feed_dict={\n",
    "        x: X_validation,\n",
    "        t: Y_validation,\n",
    "        n_batch: N_validation\n",
    "    })\n",
    "    history['val_loss'].append(val_loss)\n",
    "    print('epoch:', epoch, ' validation loss: ', val_loss)\n",
    "    #Early Stopping\n",
    "    if early_stopping.validate(val_loss):\n",
    "        break"
   ]
  },
  {
   "cell_type": "markdown",
   "metadata": {},
   "source": [
    "# Computational Graph without Batches"
   ]
  },
  {
   "cell_type": "code",
   "execution_count": null,
   "metadata": {},
   "outputs": [],
   "source": [
    "epochs = 500\n",
    "batch_size = 10\n",
    "\n",
    "init = tf.global_variables_initializer()\n",
    "sess = tf.Session()\n",
    "sess.run(init)\n",
    "history= {'val_loss': []}\n",
    "n_batches = N_train // batch_size\n",
    "early_stopping = ut.EarlyStopping(patience=100, verbose=1)\n",
    "for epoch in range(epochs):\n",
    "    X_, Y_ = shuffle(X_train, Y_train)\n",
    "    sess.run(train_step, feed_dict={\n",
    "        x: X_[start:end],\n",
    "        t: Y_[start:end],\n",
    "        n_batch: N_train\n",
    "        })\n",
    "    val_loss = loss.eval(session=sess, feed_dict={\n",
    "        x: X_validation,\n",
    "        t: Y_validation,\n",
    "        n_batch: N_validation\n",
    "    })\n",
    "    history['val_loss'].append(val_loss)\n",
    "    print('epoch:', epoch, ' validation loss: ', val_loss)\n",
    "    #Early Stoapping\n",
    "    if early_bstopping.validate(val_loss):\n",
    "        break"
   ]
  },
  {
   "cell_type": "code",
   "execution_count": 23,
   "metadata": {},
   "outputs": [
    {
     "data": {
      "image/png": "[encoded data removed]",
      "text/plain": [
       "<matplotlib.figure.Figure at 0x7f46faa90198>"
      ]
     },
     "metadata": {},
     "output_type": "display_data"
    }
   ],
   "source": [
    "truncate = maxlen\n",
    "Z = X[:1]\n",
    "original = [f[i] for i in range(maxlen)]\n",
    "predicted = [None for i in range(maxlen)]\n",
    "\n",
    "for i in range(length_of_sequences -maxlen +1):\n",
    "    z_ = Z[-1:]\n",
    "    y_ = y.eval(session=sess, feed_dict ={x: Z[-1:],\n",
    "                                          n_batch: 1})\n",
    "    sequence_ = np.concatenate((z_.reshape(maxlen, n_in)[1:], y_), axis=0)\\\n",
    "                               .reshape(1, maxlen, n_in)\n",
    "    Z = np.append(Z, sequence_, axis=0)\n",
    "    predicted.append(y_.reshape(-1))\n",
    "\n",
    "plt.rc('font', family='serif')\n",
    "plt.figure()\n",
    "plt.plot(toy_problem(T, ampl=0), linestyle='dotted', color='#aaaaaa')\n",
    "plt.plot(original, linestyle='dashed', color='black')\n",
    "plt.plot(predicted, color='black')\n",
    "plt.show()"
   ]
  },
  {
   "cell_type": "code",
   "execution_count": null,
   "metadata": {},
   "outputs": [],
   "source": [
    "cell = tf.contrib.rnn.BasicRNNCell(n_hidden)\n",
    "init_state = cell.zero_state(10, tf.float32)\n",
    "state=init_state\n",
    "outputs=[]\n",
    "x=tf.placeholder(tf.float32, shape=[None, 2, 1])\n"
   ]
  },
  {
   "cell_type": "code",
   "execution_count": null,
   "metadata": {},
   "outputs": [],
   "source": [
    "(cell_output, state) = cell(x[:, 0, :], state)"
   ]
  },
  {
   "cell_type": "code",
   "execution_count": null,
   "metadata": {},
   "outputs": [],
   "source": [
    "X.shape"
   ]
  },
  {
   "cell_type": "code",
   "execution_count": null,
   "metadata": {},
   "outputs": [],
   "source": [
    "with tf.variable_scope('RNN'):\n",
    "    for t in range(maxlen):\n",
    "        "
   ]
  },
  {
   "cell_type": "code",
   "execution_count": null,
   "metadata": {},
   "outputs": [],
   "source": [
    "# For simplicty reasons, let us first implement a function that only has 2 lags\n",
    "U = weight_variable([1, 1])\n",
    "W = weight_variable([1, ])\n",
    "\n",
    "h2 = tf.tanh(U)\n",
    "V = weight_variable([n_hidden, 1])\n",
    "c = bias_variable(1)\n",
    "y = tf.matmul(h2, V) + c"
   ]
  }
 ],
 "metadata": {
  "kernelspec": {
   "display_name": "Python 3",
   "language": "python",
   "name": "python3"
  },
  "language_info": {
   "codemirror_mode": {
    "name": "ipython",
    "version": 3
   },
   "file_extension": ".py",
   "mimetype": "text/x-python",
   "name": "python",
   "nbconvert_exporter": "python",
   "pygments_lexer": "ipython3",
   "version": "3.5.2"
  }
 },
 "nbformat": 4,
 "nbformat_minor": 2
}
