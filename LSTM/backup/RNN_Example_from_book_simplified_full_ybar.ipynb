{
 "cells": [
  {
   "cell_type": "code",
   "execution_count": null,
   "metadata": {},
   "outputs": [],
   "source": [
    "import numpy as np\n",
    "from sklearn.model_selection import train_test_split\n",
    "from sklearn.utils import shuffle\n",
    "import matplotlib.pyplot as plt\n",
    "import tensorflow as tf \n",
    "\n",
    "%matplotlib inline"
   ]
  },
  {
   "cell_type": "markdown",
   "metadata": {},
   "source": [
    "# 1. Create Data for Toy Problem"
   ]
  },
  {
   "cell_type": "code",
   "execution_count": 2,
   "metadata": {},
   "outputs": [],
   "source": [
    "def sin(x, T=100):\n",
    "    return np.sin(2.0 * np.pi * x/T)\n",
    "\n",
    "def toy_problem(T=100, ampl=0.05):\n",
    "    x = np.arange(0, 2*T + 1)\n",
    "    noise = ampl*np.random.uniform(low = -1.0, high = 1.0, size=len(x))\n",
    "    return sin(x) + noise\n",
    "\n",
    "T = 150\n",
    "f = toy_problem(T)\n",
    "plt.plot(f)\n",
    "#f[0::10] = f[0::10] + 0.3\n",
    "f[0::10] = f[0::10] + 0.3\n",
    "plt.plot(f)\n",
    "print('Assume that at every 10th element there is a little extra added to the series')\n",
    "print('Question: Can an RNN fit this?')"
   ]
  },
  {
   "cell_type": "code",
   "execution_count": 3,
   "metadata": {},
   "outputs": [
    {
     "data": {
      "text/plain": [
       "[<matplotlib.lines.Line2D at 0x7f2b35b76a58>]"
      ]
     },
     "execution_count": 3,
     "metadata": {},
     "output_type": "execute_result"
    },
    {
     "data": {
      "image/png": "[encoded data removed]",
      "text/plain": [
       "<matplotlib.figure.Figure at 0x7f2b35b76ac8>"
      ]
     },
     "metadata": {},
     "output_type": "display_data"
    }
   ],
   "source": [
    "from scipy.linalg import hankel\n",
    "# hankel matrix takes 'first colum' and 'last row' as arguments\n",
    "wx = 10\n",
    "#maxlen = 25\n",
    "maxlen = 5\n",
    "first_column = list(range(wx))\n",
    "last_row = list(range(wx, f.shape[0]-1, 1))\n",
    "t_pos = hankel(first_column, last_row)\n",
    "X = f[t_pos]\n",
    "Y = f[t_pos[-1,:]+1]\n",
    "\n",
    "# Now arrange as a training and test set\n",
    "N_train = int(X.shape[1]*0.8)\n",
    "(X_train, Y_train) = (X[:, :N_train], Y[:N_train])\n",
    "(X_test, Y_test)   = (X[:, (N_train - maxlen):], Y[N_train:])\n",
    "plt.plot(Y_train)\n",
    "plt.plot(list(range(Y.shape[0])[N_train:]), Y_test)"
   ]
  },
  {
   "cell_type": "markdown",
   "metadata": {},
   "source": [
    "# Define Graph"
   ]
  },
  {
   "cell_type": "code",
   "execution_count": 4,
   "metadata": {},
   "outputs": [],
   "source": [
    "n_in = 1\n",
    "n_hidden = 20\n",
    "n_out = 1\n",
    "#maxlen = 25\n",
    "\n",
    "tf.reset_default_graph()\n",
    "x = tf.placeholder(tf.float32, shape=[wx, maxlen])\n",
    "ybar = tf.placeholder(tf.float32, shape=[maxlen])\n",
    "h0   = tf.placeholder(tf.float32, shape=[n_hidden])\n",
    "#h_prev = tf.zeros([n_hidden], dtype=tf.float32)\n",
    "h_prev = h0\n",
    "\n",
    "# TF Variables\n",
    "#y = inference(x, n_batch, maxlen=maxlen, n_hidden=n_hidden, n_out= n_out)\n",
    "#loss = loss(y, t)\n",
    "#train_step = training(loss)\n",
    "\n",
    "# h_t = f(U x_t + W h_{t-1} + b)\n",
    "# y_t = V h_t + c\n",
    "\n",
    "V = tf.Variable(tf.truncated_normal([n_hidden], stddev=0.01), name=\"V\")\n",
    "c = tf.Variable(tf.zeros([n_out], dtype=tf.float32), name=\"c\")\n",
    "U = tf.Variable(tf.truncated_normal([n_hidden, wx], stddev=0.01), name=\"U\")\n",
    "W = tf.Variable(tf.truncated_normal([n_hidden, n_hidden], stddev=0.01), name=\"W\")\n",
    "b = tf.Variable(tf.zeros([n_hidden], dtype=tf.float32), name=\"b\")\n",
    "\n",
    "hlist = []\n",
    "\n",
    "for i in range(maxlen):\n",
    "    h_i = tf.tanh(tf.reduce_sum(U*x[:, i], axis=1) + \n",
    "                  tf.reduce_sum(W*h_prev, axis=1) + b)\n",
    "    hlist.append(h_i)\n",
    "    h_prev = hlist[-1]\n",
    "y = tf.convert_to_tensor([tf.reduce_sum(V*h) + c for h in hlist], \n",
    "                         dtype=tf.float32)\n",
    "h1ops = hlist[1]\n",
    "mse = tf.reduce_mean(tf.square(y[-1] - ybar[-1]))\n",
    "#mse = tf.reduce_mean(tf.square(y - ybar))\n",
    "\n",
    "optimize = tf.train.GradientDescentOptimizer(learning_rate = 0.001)\n",
    "train_step = optimize.minimize(mse)\n",
    "#grads_and_vars = optimize.compute_gradients(mse, tf.trainable_variables())\n",
    "grads_and_vars = optimize.compute_gradients(tf.square(y - ybar), tf.trainable_variables())"
   ]
  },
  {
   "cell_type": "code",
   "execution_count": 5,
   "metadata": {},
   "outputs": [],
   "source": [
    "init = tf.global_variables_initializer()\n",
    "sess = tf.Session()\n",
    "sess.run(init)"
   ]
  },
  {
   "cell_type": "markdown",
   "metadata": {},
   "source": [
    "# Train Model"
   ]
  },
  {
   "cell_type": "code",
   "execution_count": 6,
   "metadata": {
    "scrolled": true
   },
   "outputs": [
    {
     "name": "stdout",
     "output_type": "stream",
     "text": [
      "0.536709\n",
      "0.510867\n",
      "0.44671\n",
      "0.301283\n",
      "0.143607\n",
      "0.0778606\n",
      "0.0629481\n",
      "0.0583428\n",
      "0.0555927\n",
      "0.0533603\n",
      "0.0513436\n",
      "0.049446\n",
      "0.0476296\n",
      "0.0458772\n",
      "0.0441803\n",
      "0.0425339\n",
      "0.0409351\n",
      "0.0393826\n",
      "0.0378756\n",
      "0.0364142\n",
      "0.0349988\n",
      "0.0336304\n",
      "0.03231\n",
      "0.0310391\n",
      "0.0298191\n",
      "0.0286516\n",
      "0.027538\n",
      "0.0264797\n",
      "0.025478\n",
      "0.0245336\n",
      "0.0236472\n",
      "0.0228191\n",
      "0.0220491\n",
      "0.0213365\n",
      "0.0206804\n",
      "0.0200793\n",
      "0.0195313\n",
      "0.0190342\n",
      "0.0185855\n",
      "0.0181825\n",
      "0.0178221\n",
      "0.0175013\n",
      "0.0172169\n",
      "0.0169658\n",
      "0.0167448\n",
      "0.016551\n",
      "0.0163814\n",
      "0.0162334\n",
      "0.0161044\n",
      "0.0159921\n",
      "0.0158944\n",
      "0.0158094\n",
      "0.0157353\n",
      "0.0156706\n",
      "0.015614\n",
      "0.0155643\n",
      "0.0155204\n",
      "0.0154816\n",
      "0.0154469\n",
      "0.0154158\n",
      "0.0153877\n",
      "0.0153622\n",
      "0.0153387\n",
      "0.0153171\n",
      "0.0152969\n",
      "0.015278\n",
      "0.0152601\n",
      "0.0152431\n",
      "0.0152269\n",
      "0.0152113\n",
      "0.0151962\n",
      "0.0151816\n",
      "0.0151673\n",
      "0.0151534\n",
      "0.0151398\n",
      "0.0151264\n",
      "0.0151132\n",
      "0.0151002\n",
      "0.0150874\n",
      "0.0150747\n",
      "0.0150621\n",
      "0.0150497\n",
      "0.0150374\n",
      "0.0150251\n",
      "0.015013\n",
      "0.0150009\n",
      "0.0149889\n",
      "0.014977\n",
      "0.0149652\n",
      "0.0149534\n",
      "0.0149417\n",
      "0.01493\n",
      "0.0149184\n",
      "0.0149069\n",
      "0.0148954\n",
      "0.014884\n",
      "0.0148726\n",
      "0.0148613\n",
      "0.01485\n",
      "0.0148388\n"
     ]
    }
   ],
   "source": [
    "epochs = 100\n",
    "h1 = np.zeros(n_hidden)\n",
    "\n",
    "for epoch in range(epochs):\n",
    "    mselist = []\n",
    "    for i in range(X_train.shape[1] - maxlen):\n",
    "        train_dict = {x: X_train[:,i:(maxlen + i)],\n",
    "                      ybar: Y_train[i:(maxlen + i)],\n",
    "                      h0: h1}\n",
    "        _, h1 = sess.run([train_step, h1ops], feed_dict = train_dict)\n",
    "        mselist.append(mse.eval(session=sess, feed_dict = train_dict))\n",
    "    print(np.mean(mselist))      "
   ]
  },
  {
   "cell_type": "markdown",
   "metadata": {},
   "source": [
    "# Plot results - insample"
   ]
  },
  {
   "cell_type": "code",
   "execution_count": null,
   "metadata": {},
   "outputs": [],
   "source": [
    "y_ = []\n",
    "h1 = np.zeros(n_hidden)\n",
    "for i in range(X_train.shape[1] - maxlen):\n",
    "    train_dict = {x: X_train[:,i:(maxlen + i)],\n",
    "                  h0: h1}\n",
    "    yi_, h1 = sess.run([y, h1ops], feed_dict = train_dict)\n",
    "    y_.append(yi_)\n",
    "y_ = np.concatenate([x[-1] for x in y_])"
   ]
  },
  {
   "cell_type": "code",
   "execution_count": null,
   "metadata": {},
   "outputs": [],
   "source": [
    "\n",
    "#original = [f[i + maxlen]  for i in range(X_train.shape[0])]\n",
    "original = Y_train[maxlen:]\n",
    "plt.rc('font', family='serif')\n",
    "plt.figure()\n",
    "mse_train = np.mean(np.square(y_ - original))\n",
    "#plt.plot(toy_problem(T, ampl=0), linestyle='dotted', color='#aaaaaa')\n",
    "plt.plot(original, linestyle='dashed', color='black')\n",
    "plt.plot(y_, color='red')\n",
    "plt.text(20, 0.6, r'maxlen = ' + str(maxlen) + '\\n' +\\\n",
    "               r'wx = ' + str(wx) + '\\n' +\\\n",
    "               r'epochs = ' + str(epochs) + '\\n' +\\\n",
    "               r'ybar = full' + '\\n' + \n",
    "               r'mse = ' + \"{0:.5f}\".format(np.mean(mse_train))\n",
    "               , fontsize=10)\n",
    "plt.title('Fit - Training Set')\n",
    "print()"
   ]
  },
  {
   "cell_type": "markdown",
   "metadata": {},
   "source": [
    "# Plot results - out of sample"
   ]
  },
  {
   "cell_type": "code",
   "execution_count": null,
   "metadata": {},
   "outputs": [],
   "source": [
    "y_ = [y.eval(session=sess, feed_dict=\n",
    "             {x: X_test[:,i:(maxlen + i)]})[-1]\n",
    "      for i in range(X_test.shape[1] - maxlen)]\n",
    "y_ = np.concatenate(y_)\n",
    "#original = Y_test[maxlen:]\n",
    "original = Y_test\n",
    "plt.rc('font', family='serif')\n",
    "plt.figure()\n",
    "#plt.plot(toy_problem(T, ampl=0), linestyle='dotted', color='#aaaaaa')\n",
    "plt.plot(original, linestyle='dashed', color='black')\n",
    "plt.plot(y_, color='red')\n",
    "plt.ylim(-1.2, 1.2)\n",
    "plt.title('Fit test set')\n",
    "mse_test = np.mean(np.square(y_ - original))\n",
    "plt.text(20, 0.6, r'mse(test) = ' + \"{0:.5f}\".format(mse_test), fontsize=10)"
   ]
  },
  {
   "cell_type": "code",
   "execution_count": null,
   "metadata": {},
   "outputs": [],
   "source": [
    "curve_range = np.array(range(30, 55, 1))\n",
    "y_ = np.concatenate([y.eval(session=sess, feed_dict=\n",
    "             {x: X_train[:,i:(maxlen + i)]})[-1]\n",
    "      for i in curve_range])\n",
    "\n",
    "yfull_ = [y.eval(session=sess, feed_dict=\n",
    "             {x: X_train[:,i:(maxlen + i)]})\n",
    "      for i in curve_range]\n",
    "y_trail = np.concatenate(yfull_[-1])\n",
    "plt.plot(Y_train[curve_range + maxlen], linestyle='dashed', color='black')\n",
    "plt.plot(y_, color='red')\n",
    "plt.plot(y_trail, color='lightblue', linestyle='dotted')\n"
   ]
  },
  {
   "cell_type": "code",
   "execution_count": null,
   "metadata": {},
   "outputs": [],
   "source": []
  },
  {
   "cell_type": "code",
   "execution_count": null,
   "metadata": {},
   "outputs": [],
   "source": [
    "yfull_ = [y.eval(session=sess, feed_dict=\n",
    "             {x: X_train[:,i:(maxlen + i)]})\n",
    "      for i in curve_range]"
   ]
  },
  {
   "cell_type": "code",
   "execution_count": null,
   "metadata": {},
   "outputs": [],
   "source": [
    "np.concatenate(yfull_[10])"
   ]
  },
  {
   "cell_type": "markdown",
   "metadata": {},
   "source": [
    "# Inspect gradients of W at the highpoint"
   ]
  },
  {
   "cell_type": "code",
   "execution_count": null,
   "metadata": {},
   "outputs": [],
   "source": [
    "results = sess.run(grads_and_vars, feed_dict = {x: X_train[:,10:(maxlen + 10)], \n",
    "                                          ybar: Y_train[10:(maxlen + 10)]})\n",
    "W_grads_and_vars = results[2]"
   ]
  },
  {
   "cell_type": "code",
   "execution_count": null,
   "metadata": {},
   "outputs": [],
   "source": [
    "W_grads_and_vars[0].shape"
   ]
  },
  {
   "cell_type": "code",
   "execution_count": null,
   "metadata": {},
   "outputs": [],
   "source": [
    "np.max(W_grads_and_vars[1])"
   ]
  },
  {
   "cell_type": "code",
   "execution_count": null,
   "metadata": {},
   "outputs": [],
   "source": [
    "plt.matshow(W_grads_and_vars[1])\n",
    "\n",
    "fig, ax = plt.subplots()\n",
    "# Using matshow here just because it sets the ticks up nicely. imshow is faster.\n",
    "data = W_grads_and_vars[1]\n",
    "ax.matshow(data, cmap='seismic')\n",
    "\n",
    "for (i, j), z in np.ndenumerate(data*100):\n",
    "    ax.text(j, i, '{:0.1f}'.format(z), ha='center', va='center')\n",
    "\n",
    "plt.show()"
   ]
  },
  {
   "cell_type": "code",
   "execution_count": null,
   "metadata": {},
   "outputs": [],
   "source": [
    "tf.trainable_variables()"
   ]
  },
  {
   "cell_type": "code",
   "execution_count": null,
   "metadata": {},
   "outputs": [],
   "source": [
    "truncate = maxlen\n",
    "Z = X[:1]\n",
    "original = [f[i] for i in range(maxlen)]\n",
    "predicted = [None for i in range(maxlen)]\n",
    "\n",
    "for i in range(length_of_sequences -maxlen +1):\n",
    "    z_ = Z[-1:]\n",
    "    y_ = y.eval(session=sess, feed_dict ={x: Z[-1:],\n",
    "                                          n_batch: 1})\n",
    "    sequence_ = np.concatenate((z_.reshape(maxlen, n_in)[1:], y_), axis=0)\\\n",
    "                               .reshape(1, maxlen, n_in)\n",
    "    Z = np.append(Z, sequence_, axis=0)\n",
    "    predicted.append(y_.reshape(-1))\n",
    "\n",
    "plt.rc('font', family='serif')\n",
    "plt.figure()\n",
    "plt.plot(toy_problem(T, ampl=0), linestyle='dotted', color='#aaaaaa')\n",
    "plt.plot(original, linestyle='dashed', color='black')\n",
    "plt.plot(predicted, color='black')\n",
    "plt.show()"
   ]
  },
  {
   "cell_type": "code",
   "execution_count": null,
   "metadata": {},
   "outputs": [],
   "source": [
    "sess.run(train_step, feed_dict={\n",
    "    x: X_[start:end],\n",
    "    t: Y_[start:end],\n",
    "    n_batch: N_train\n",
    "    })\n",
    "val_loss = loss.eval(session=sess, feed_dict={\n",
    "    x: X_validation,\n",
    "    t: Y_validation,\n",
    "    n_batch: N_validation"
   ]
  },
  {
   "cell_type": "code",
   "execution_count": null,
   "metadata": {},
   "outputs": [],
   "source": [
    "loss.eval(session=sess, feed_dict={\n",
    "        x: X_validation,\n",
    "        t: Y_validation,\n",
    "        n_batch: N_validation\n",
    "    })"
   ]
  },
  {
   "cell_type": "markdown",
   "metadata": {},
   "source": [
    "# 3. Define Functions for Model"
   ]
  },
  {
   "cell_type": "code",
   "execution_count": null,
   "metadata": {},
   "outputs": [],
   "source": [
    "def inference(x, n_batch, maxlen=None, n_hidden=None, n_out=None):\n",
    "    def weight_variable(shape):\n",
    "        initial = tf.truncated_normal(shape, stddev=0.01) # resample 2 sd vals\n",
    "        return tf.Variable(initial)\n",
    "    \n",
    "    def bias_variable(shape):\n",
    "        initial = tf.zeros(shape, dtype=tf.float32)\n",
    "        return tf.Variable(initial)\n",
    "    \n",
    "    cell = tf.contrib.rnn.BasicRNNCell(n_hidden)\n",
    "    initial_state = cell.zero_state(n_batch, tf.float32)\n",
    "    \n",
    "    state = initial_state\n",
    "    outputs = []\n",
    "    with tf.variable_scope('RNN'):\n",
    "        for t in range(maxlen):\n",
    "            if t > 0:\n",
    "                tf.get_variable_scope().reuse_variables()\n",
    "            (cell_output, state) = cell(x[:, t, :], state)\n",
    "            outputs.append(cell_output)\n",
    "    output = outputs[-1]\n",
    "    \n",
    "    V = weight_variable([n_hidden, n_out])\n",
    "    c = bias_variable([n_out])\n",
    "    y = tf.matmul(output, V) + c\n",
    "    \n",
    "    return y\n",
    "\n",
    "def loss(y, t):\n",
    "    mse = tf.reduce_mean(tf.square(y - t))\n",
    "    return mse\n",
    "\n",
    "def training(loss):\n",
    "    optimize = tf.train.AdamOptimizer(learning_rate = 0.001, beta1=0.9, beta2=0.999)\n",
    "    train_step = optimize.minimize(loss)\n",
    "    return train_step"
   ]
  },
  {
   "cell_type": "markdown",
   "metadata": {},
   "source": [
    "# 4. Define TF Graph"
   ]
  },
  {
   "cell_type": "code",
   "execution_count": null,
   "metadata": {},
   "outputs": [],
   "source": [
    "n_in = len(X[0][0])\n",
    "n_hidden = 20\n",
    "n_out = len(Y[0])\n",
    "\n",
    "tf.reset_default_graph()\n",
    "# Input Parameters\n",
    "x = tf.placeholder(tf.float32, shape=[None, maxlen, n_in])\n",
    "t = tf.placeholder(tf.float32, shape=[None, n_out])\n",
    "n_batch = tf.placeholder(tf.int32, [])\n",
    "\n",
    "# TF Variables\n",
    "y = inference(x, n_batch, maxlen=maxlen, n_hidden=n_hidden, n_out= n_out)\n",
    "loss = loss(y, t)\n",
    "train_step = training(loss)"
   ]
  },
  {
   "cell_type": "markdown",
   "metadata": {},
   "source": [
    "# 5. Run Computational Graph (with batches)"
   ]
  },
  {
   "cell_type": "code",
   "execution_count": null,
   "metadata": {},
   "outputs": [],
   "source": [
    "epochs = 500\n",
    "batch_size = 10\n",
    "\n",
    "init = tf.global_variables_initializer()\n",
    "sess = tf.Session()\n",
    "sess.run(init)\n",
    "history= {'val_loss': []}\n",
    "n_batches = N_train // batch_size\n",
    "early_stopping = ut.EarlyStopping(patience=100, verbose=1)\n",
    "for epoch in range(epochs):\n",
    "    X_, Y_ = shuffle(X_train, Y_train)\n",
    "    \n",
    "    for i in range(n_batches):\n",
    "        start = i*batch_size\n",
    "        end = start + batch_size\n",
    "        \n",
    "        sess.run(train_step, feed_dict={\n",
    "            x: X_[start:end],\n",
    "            t: Y_[start:end],\n",
    "            n_batch: batch_size\n",
    "        })\n",
    "    val_loss = loss.eval(session=sess, feed_dict={\n",
    "        x: X_validation,\n",
    "        t: Y_validation,\n",
    "        n_batch: N_validation\n",
    "    })\n",
    "    history['val_loss'].append(val_loss)\n",
    "    print('epoch:', epoch, ' validation loss: ', val_loss)\n",
    "    #Early Stopping\n",
    "    if early_stopping.validate(val_loss):\n",
    "        break"
   ]
  },
  {
   "cell_type": "markdown",
   "metadata": {},
   "source": [
    "# Computational Graph without Batches"
   ]
  },
  {
   "cell_type": "code",
   "execution_count": null,
   "metadata": {},
   "outputs": [],
   "source": [
    "epochs = 500\n",
    "batch_size = 10\n",
    "\n",
    "init = tf.global_variables_initializer()\n",
    "sess = tf.Session()\n",
    "sess.run(init)\n",
    "history= {'val_loss': []}\n",
    "n_batches = N_train // batch_size\n",
    "early_stopping = ut.EarlyStopping(patience=100, verbose=1)\n",
    "for epoch in range(epochs):\n",
    "    X_, Y_ = shuffle(X_train, Y_train)\n",
    "    sess.run(train_step, feed_dict={\n",
    "        x: X_[start:end],\n",
    "        t: Y_[start:end],\n",
    "        n_batch: N_train\n",
    "        })\n",
    "    val_loss = loss.eval(session=sess, feed_dict={\n",
    "        x: X_validation,\n",
    "        t: Y_validation,\n",
    "        n_batch: N_validation\n",
    "    })\n",
    "    history['val_loss'].append(val_loss)\n",
    "    print('epoch:', epoch, ' validation loss: ', val_loss)\n",
    "    #Early Stoapping\n",
    "    if early_bstopping.validate(val_loss):\n",
    "        break"
   ]
  },
  {
   "cell_type": "code",
   "execution_count": null,
   "metadata": {},
   "outputs": [],
   "source": [
    "truncate = maxlen\n",
    "Z = X[:1]\n",
    "original = [f[i] for i in range(maxlen)]\n",
    "predicted = [None for i in range(maxlen)]\n",
    "\n",
    "for i in range(length_of_sequences -maxlen +1):\n",
    "    z_ = Z[-1:]\n",
    "    y_ = y.eval(session=sess, feed_dict ={x: Z[-1:],\n",
    "                                          n_batch: 1})\n",
    "    sequence_ = np.concatenate((z_.reshape(maxlen, n_in)[1:], y_), axis=0)\\\n",
    "                               .reshape(1, maxlen, n_in)\n",
    "    Z = np.append(Z, sequence_, axis=0)\n",
    "    predicted.append(y_.reshape(-1))\n",
    "\n",
    "plt.rc('font', family='serif')\n",
    "plt.figure()\n",
    "plt.plot(toy_problem(T, ampl=0), linestyle='dotted', color='#aaaaaa')\n",
    "plt.plot(original, linestyle='dashed', color='black')\n",
    "plt.plot(predicted, color='black')\n",
    "plt.show()"
   ]
  },
  {
   "cell_type": "code",
   "execution_count": null,
   "metadata": {},
   "outputs": [],
   "source": [
    "cell = tf.contrib.rnn.BasicRNNCell(n_hidden)\n",
    "init_state = cell.zero_state(10, tf.float32)\n",
    "state=init_state\n",
    "outputs=[]\n",
    "x=tf.placeholder(tf.float32, shape=[None, 2, 1])\n"
   ]
  },
  {
   "cell_type": "code",
   "execution_count": null,
   "metadata": {},
   "outputs": [],
   "source": [
    "(cell_output, state) = cell(x[:, 0, :], state)"
   ]
  },
  {
   "cell_type": "code",
   "execution_count": null,
   "metadata": {},
   "outputs": [],
   "source": [
    "X.shape"
   ]
  },
  {
   "cell_type": "code",
   "execution_count": null,
   "metadata": {},
   "outputs": [],
   "source": [
    "with tf.variable_scope('RNN'):\n",
    "    for t in range(maxlen):\n",
    "        "
   ]
  },
  {
   "cell_type": "code",
   "execution_count": null,
   "metadata": {},
   "outputs": [],
   "source": [
    "# For simplicty reasons, let us first implement a function that only has 2 lags\n",
    "U = weight_variable([1, 1])\n",
    "W = weight_variable([1, ])\n",
    "\n",
    "h2 = tf.tanh(U)\n",
    "V = weight_variable([n_hidden, 1])\n",
    "c = bias_variable(1)\n",
    "y = tf.matmul(h2, V) + c"
   ]
  }
 ],
 "metadata": {
  "kernelspec": {
   "display_name": "Python 3",
   "language": "python",
   "name": "python3"
  },
  "language_info": {
   "codemirror_mode": {
    "name": "ipython",
    "version": 3
   },
   "file_extension": ".py",
   "mimetype": "text/x-python",
   "name": "python",
   "nbconvert_exporter": "python",
   "pygments_lexer": "ipython3",
   "version": "3.5.2"
  }
 },
 "nbformat": 4,
 "nbformat_minor": 2
}
